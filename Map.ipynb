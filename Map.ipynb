{
 "cells": [
  {
   "cell_type": "code",
   "execution_count": 2,
   "metadata": {
    "scrolled": true
   },
   "outputs": [
    {
     "name": "stdout",
     "output_type": "stream",
     "text": [
      "Requirement already satisfied: folium in c:\\users\\zo110\\anaconda3\\lib\\site-packages (0.12.1.post1)\n",
      "Requirement already satisfied: requests in c:\\users\\zo110\\anaconda3\\lib\\site-packages (from folium) (2.24.0)\n",
      "Requirement already satisfied: numpy in c:\\users\\zo110\\anaconda3\\lib\\site-packages (from folium) (1.19.2)\n",
      "Requirement already satisfied: jinja2>=2.9 in c:\\users\\zo110\\anaconda3\\lib\\site-packages (from folium) (2.11.2)\n",
      "Requirement already satisfied: branca>=0.3.0 in c:\\users\\zo110\\anaconda3\\lib\\site-packages (from folium) (0.4.2)\n",
      "Requirement already satisfied: urllib3!=1.25.0,!=1.25.1,<1.26,>=1.21.1 in c:\\users\\zo110\\anaconda3\\lib\\site-packages (from requests->folium) (1.25.11)\n",
      "Requirement already satisfied: certifi>=2017.4.17 in c:\\users\\zo110\\anaconda3\\lib\\site-packages (from requests->folium) (2020.6.20)\n",
      "Requirement already satisfied: idna<3,>=2.5 in c:\\users\\zo110\\anaconda3\\lib\\site-packages (from requests->folium) (2.10)\n",
      "Requirement already satisfied: chardet<4,>=3.0.2 in c:\\users\\zo110\\anaconda3\\lib\\site-packages (from requests->folium) (3.0.4)\n",
      "Requirement already satisfied: MarkupSafe>=0.23 in c:\\users\\zo110\\anaconda3\\lib\\site-packages (from jinja2>=2.9->folium) (1.1.1)\n"
     ]
    }
   ],
   "source": [
    "!pip3 install folium"
   ]
  },
  {
   "cell_type": "code",
   "execution_count": 18,
   "metadata": {
    "scrolled": true
   },
   "outputs": [],
   "source": [
    "##各站地圖##\n",
    "##TOP10:red##\n",
    "##Last10:gray##\n",
    "##Other:blue##\n",
    "import pandas as pd\n",
    "import folium\n",
    "import numpy as np\n",
    "\n",
    "df = pd.read_csv(\"110accident.csv\")\n",
    "nmp=df.to_numpy()\n",
    "\n",
    "m=folium.Map(location=[22.932706,120.230637],width=2000,height=2000,zoom_start=14)\n",
    "\n",
    "for i in range(0,41445,1):\n",
    "\n",
    "    folium.CircleMarker(\n",
    "    location=[nmp[i,4], nmp[i,3]],\n",
    "    radius=7, # define how big you want the circle markers to be\n",
    "    color='yellow',\n",
    "    fill=True,\n",
    "    fill_color='red',\n",
    "    fill_opacity=0.4\n",
    "     ).add_to(m)       \n",
    "\n",
    "    \n",
    "m.save('myMap.html')\n"
   ]
  },
  {
   "cell_type": "code",
   "execution_count": null,
   "metadata": {},
   "outputs": [],
   "source": [
    "\n",
    "        "
   ]
  },
  {
   "cell_type": "code",
   "execution_count": null,
   "metadata": {},
   "outputs": [],
   "source": []
  },
  {
   "cell_type": "code",
   "execution_count": null,
   "metadata": {},
   "outputs": [],
   "source": []
  }
 ],
 "metadata": {
  "kernelspec": {
   "display_name": "Python 3",
   "language": "python",
   "name": "python3"
  },
  "language_info": {
   "codemirror_mode": {
    "name": "ipython",
    "version": 3
   },
   "file_extension": ".py",
   "mimetype": "text/x-python",
   "name": "python",
   "nbconvert_exporter": "python",
   "pygments_lexer": "ipython3",
   "version": "3.8.5"
  }
 },
 "nbformat": 4,
 "nbformat_minor": 4
}
