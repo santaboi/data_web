{
 "cells": [
  {
   "cell_type": "code",
   "execution_count": 21,
   "metadata": {},
   "outputs": [],
   "source": [
    "##成大人車禍地點##\n",
    "import pandas as pd\n",
    "import folium\n",
    "import numpy as np\n",
    "\n",
    "df = pd.read_csv(\"NCKU.csv\")\n",
    "nmp=df.to_numpy()\n",
    "\n",
    "m=folium.Map(location=[22.932706,120.230637],width=2000,height=2000,zoom_start=14)\n",
    "\n",
    "for i in range(0,79,1):\n",
    "    if (i==0 or i==2 or i==5 or i==12 or i==13 or i==17 or i==18 or i==21 or i==20 or i==25\\\n",
    "        or i==33 or i==36 or i==39 or i==41 or i==45 or i==47 or i==49 or i==52 or i==54 \\\n",
    "        or i==61 or i==67 or i==68 or i==71 or i==74 or i==76 or i==77):\n",
    "        folium.Marker(\n",
    "        location=[nmp[i,6], nmp[i,7]],\n",
    "        popup=nmp[i,5],\n",
    "        icon=folium.Icon(color='blue', icon='cloud')\n",
    "         ).add_to(m)       \n",
    "\n",
    "    \n",
    "m.save('NCKU.html')\n"
   ]
  },
  {
   "cell_type": "code",
   "execution_count": null,
   "metadata": {},
   "outputs": [],
   "source": []
  },
  {
   "cell_type": "code",
   "execution_count": null,
   "metadata": {},
   "outputs": [],
   "source": []
  }
 ],
 "metadata": {
  "kernelspec": {
   "display_name": "Python 3",
   "language": "python",
   "name": "python3"
  },
  "language_info": {
   "codemirror_mode": {
    "name": "ipython",
    "version": 3
   },
   "file_extension": ".py",
   "mimetype": "text/x-python",
   "name": "python",
   "nbconvert_exporter": "python",
   "pygments_lexer": "ipython3",
   "version": "3.8.5"
  }
 },
 "nbformat": 4,
 "nbformat_minor": 4
}
