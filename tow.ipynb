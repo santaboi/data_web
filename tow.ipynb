{
 "cells": [
  {
   "cell_type": "code",
   "execution_count": 15,
   "metadata": {},
   "outputs": [],
   "source": [
    "##前12名紅色##\n",
    "##後11名\n",
    "import pandas as pd\n",
    "import folium\n",
    "import numpy as np\n",
    "from folium.plugins import MarkerCluster\n",
    "\n",
    "df = pd.read_csv(\"tow1.csv\")\n",
    "nmp=df.to_numpy()\n",
    "\n",
    "m=folium.Map(location=[22.932706,120.230637],width=2000,height=2000,zoom_start=14)\n",
    "\n",
    "for i in range(0,12,1):\n",
    "    folium.Marker(\n",
    "    location=[nmp[i,2], nmp[i,3]],\n",
    "    popup=nmp[i,0],\n",
    "    icon=folium.Icon(color='red', icon='info-sign')\n",
    "     ).add_to(m) \n",
    "for i in range(12,23,1):\n",
    "    folium.Marker(\n",
    "    location=[nmp[i,2], nmp[i,3]],\n",
    "    popup=nmp[i,0],\n",
    "    icon=folium.Icon(color='blue', icon='cloud')\n",
    "     ).add_to(m)\n",
    "\n",
    "    \n",
    "m.save('tow.html')\n"
   ]
  },
  {
   "cell_type": "code",
   "execution_count": null,
   "metadata": {},
   "outputs": [],
   "source": []
  }
 ],
 "metadata": {
  "kernelspec": {
   "display_name": "Python 3",
   "language": "python",
   "name": "python3"
  },
  "language_info": {
   "codemirror_mode": {
    "name": "ipython",
    "version": 3
   },
   "file_extension": ".py",
   "mimetype": "text/x-python",
   "name": "python",
   "nbconvert_exporter": "python",
   "pygments_lexer": "ipython3",
   "version": "3.8.5"
  }
 },
 "nbformat": 4,
 "nbformat_minor": 4
}
